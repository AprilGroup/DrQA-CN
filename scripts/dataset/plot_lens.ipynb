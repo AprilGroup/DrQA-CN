{
 "cells": [
  {
   "cell_type": "code",
   "execution_count": 117,
   "metadata": {
    "collapsed": true
   },
   "outputs": [],
   "source": [
    "\"\"\"A script to plot the distribution of the length of paragraph, question and answer\n",
    "of mba vs squad dataset.\"\"\"\n",
    "import matplotlib.pyplot as plt\n",
    "import seaborn as sns\n",
    "sns.set(palette=\"muted\", color_codes=True)\n",
    "import json\n",
    "import sys\n",
    "sys.path.append('/home/zrx/projects/MbaQA/')\n",
    "from mbaqa.tokenizers.ltp_tokenizer import LtpTokenizer"
   ]
  },
  {
   "cell_type": "code",
   "execution_count": 118,
   "metadata": {
    "collapsed": true
   },
   "outputs": [],
   "source": [
    "# read in datasets\n",
    "squad_train_path = '../../data/datasets/train-v1.1.json'\n",
    "mba_def_path = '../../data/datasets/mba_def.json'\n",
    "squad_train = json.load(open(squad_train_path))\n",
    "mba_def = json.load(open(mba_def_path))\n",
    "\n",
    "# tokenizer\n",
    "tokenizer = LtpTokenizer(annotators=set())"
   ]
  },
  {
   "cell_type": "code",
   "execution_count": 122,
   "metadata": {
    "collapsed": true
   },
   "outputs": [],
   "source": [
    "def get_lens(dataset):\n",
    "    question_lens, answer_lens, para_lens = [], [], []\n",
    "    for idx, doc in enumerate(dataset):\n",
    "        for para in doc['paragraphs']:\n",
    "            para_len = len(tokenizer.tokenize(para['context']))\n",
    "            para_lens.append(para_len)\n",
    "            if 'qas' in para:\n",
    "                for qa in para['qas']:\n",
    "                    q_len = len(tokenizer.tokenize(qa['question']))\n",
    "                    question_lens.append(q_len)\n",
    "                    for answer in qa['answers']:\n",
    "                        a_len = len(tokenizer.tokenize(answer['text']))\n",
    "                        answer_lens.append(a_len)\n",
    "\n",
    "        if idx % 100 == 0:\n",
    "            print(idx)\n",
    "#         if idx > 100:\n",
    "#             break\n",
    "    return question_lens, answer_lens, para_lens\n",
    "\n",
    "def plot_lens(mba_q_lens, mba_a_lens, mba_para_lens, squad_q_lens, squad_a_lens, squad_para_lens, figsize=(15, 10)):\n",
    "    fig = plt.figure(figsize=figsize)\n",
    "    # mba question\n",
    "    plt.subplot(231)\n",
    "#     ax = fig.add_subplot(321)\n",
    "    plt.title('MBA definition dataset question length distribution', fontsize=13)\n",
    "    sns.distplot(mba_q_lens, axlabel=\"number of words\")\n",
    "    # squad question\n",
    "    plt.subplot(234)\n",
    "    plt.title('SQuAD training set question length distribution', fontsize=13)\n",
    "    sns.distplot(squad_q_lens, color=\"m\", axlabel=\"number of words\")\n",
    "    # mba answer\n",
    "    plt.subplot(232)\n",
    "    plt.title('MBA definition dataset answer length distribution', fontsize=13)\n",
    "    sns.distplot(mba_a_lens, axlabel=\"number of words\")\n",
    "    # squad answer\n",
    "    plt.subplot(235)\n",
    "    plt.title('SQuAD training set answer length distribution', fontsize=13)\n",
    "    sns.distplot(squad_a_lens, color=\"m\", axlabel=\"number of words\")\n",
    "    # mba paragraph\n",
    "    plt.subplot(233)\n",
    "    plt.title('MBA definition dataset paragraph length distribution', fontsize=13)\n",
    "    sns.distplot(mba_para_lens, axlabel=\"number of words\")\n",
    "    # squad paragraph\n",
    "    plt.subplot(236)\n",
    "    plt.title('SQuAD training set paragraph length distribution', fontsize=13)\n",
    "    sns.distplot(squad_para_lens, color=\"m\", axlabel=\"number of words\")\n",
    "    \n",
    "    fig.tight_layout(h_pad = 2)\n",
    "#     plt.suptitle('MBA vs SQuAD doc length(number of words) distribution', fontsize=16)\n",
    "#     plt.show()\n",
    "    plt.savefig(\"MBA vs SQuAD 2.png\")"
   ]
  },
  {
   "cell_type": "code",
   "execution_count": 120,
   "metadata": {
    "scrolled": true
   },
   "outputs": [
    {
     "name": "stdout",
     "output_type": "stream",
     "text": [
      "0\n",
      "100\n",
      "200\n",
      "300\n",
      "400\n",
      "500\n",
      "600\n",
      "700\n",
      "800\n",
      "900\n",
      "1000\n",
      "1100\n",
      "1200\n",
      "1300\n",
      "1400\n",
      "1500\n",
      "1600\n",
      "1700\n",
      "1800\n",
      "1900\n",
      "2000\n",
      "2100\n",
      "2200\n",
      "2300\n",
      "2400\n",
      "2500\n",
      "2600\n",
      "2700\n",
      "2800\n",
      "2900\n",
      "3000\n",
      "3100\n",
      "3200\n",
      "3300\n",
      "3400\n",
      "3500\n",
      "3600\n",
      "3700\n",
      "3800\n",
      "3900\n",
      "4000\n",
      "4100\n",
      "4200\n",
      "4300\n",
      "4400\n",
      "4500\n",
      "4600\n",
      "4700\n",
      "4800\n",
      "4900\n",
      "5000\n",
      "5100\n",
      "5200\n",
      "5300\n",
      "5400\n",
      "5500\n",
      "5600\n",
      "5700\n",
      "5800\n",
      "5900\n",
      "6000\n",
      "6100\n",
      "6200\n",
      "6300\n",
      "6400\n",
      "6500\n",
      "6600\n",
      "6700\n",
      "6800\n",
      "6900\n",
      "7000\n",
      "7100\n",
      "7200\n",
      "7300\n",
      "7400\n",
      "7500\n",
      "7600\n",
      "7700\n",
      "7800\n",
      "7900\n",
      "8000\n",
      "8100\n",
      "8200\n",
      "8300\n",
      "8400\n",
      "8500\n",
      "8600\n",
      "8700\n",
      "8800\n",
      "8900\n",
      "9000\n",
      "9100\n",
      "9200\n",
      "9300\n",
      "9400\n",
      "9500\n",
      "9600\n"
     ]
    }
   ],
   "source": [
    "mba_question_lens, mba_answer_lens, mba_para_lens = get_lens(mba_def['data'])"
   ]
  },
  {
   "cell_type": "code",
   "execution_count": 121,
   "metadata": {
    "scrolled": true
   },
   "outputs": [
    {
     "name": "stdout",
     "output_type": "stream",
     "text": [
      "0\n",
      "100\n",
      "200\n",
      "300\n",
      "400\n"
     ]
    }
   ],
   "source": [
    "squad_question_lens, squad_answer_lens, squad_para_lens = get_lens(squad_train['data'])"
   ]
  },
  {
   "cell_type": "code",
   "execution_count": 126,
   "metadata": {},
   "outputs": [],
   "source": [
    "plot_lens(mba_question_lens, mba_answer_lens, mba_para_lens, squad_question_lens, squad_answer_lens, squad_para_lens, (15,6))"
   ]
  },
  {
   "cell_type": "code",
   "execution_count": 92,
   "metadata": {},
   "outputs": [
    {
     "data": {
      "text/plain": [
       "{'axes.axisbelow': True,\n",
       " 'axes.edgecolor': 'white',\n",
       " 'axes.facecolor': '#EAEAF2',\n",
       " 'axes.grid': True,\n",
       " 'axes.labelcolor': '.15',\n",
       " 'axes.linewidth': 0.0,\n",
       " 'figure.facecolor': 'white',\n",
       " 'font.family': ['sans-serif'],\n",
       " 'font.sans-serif': ['Arial',\n",
       "  'DejaVu Sans',\n",
       "  'Liberation Sans',\n",
       "  'Bitstream Vera Sans',\n",
       "  'sans-serif'],\n",
       " 'grid.color': 'white',\n",
       " 'grid.linestyle': '-',\n",
       " 'image.cmap': 'rocket',\n",
       " 'legend.frameon': False,\n",
       " 'legend.numpoints': 1,\n",
       " 'legend.scatterpoints': 1,\n",
       " 'lines.solid_capstyle': 'round',\n",
       " 'text.color': '.15',\n",
       " 'xtick.color': '.15',\n",
       " 'xtick.direction': 'out',\n",
       " 'xtick.major.size': 0.0,\n",
       " 'xtick.minor.size': 0.0,\n",
       " 'ytick.color': '.15',\n",
       " 'ytick.direction': 'out',\n",
       " 'ytick.major.size': 0.0,\n",
       " 'ytick.minor.size': 0.0}"
      ]
     },
     "execution_count": 92,
     "metadata": {},
     "output_type": "execute_result"
    }
   ],
   "source": [
    "sns.axes_style()"
   ]
  },
  {
   "cell_type": "code",
   "execution_count": null,
   "metadata": {
    "collapsed": true
   },
   "outputs": [],
   "source": []
  }
 ],
 "metadata": {
  "kernelspec": {
   "display_name": "Python 3",
   "language": "python",
   "name": "python3"
  },
  "language_info": {
   "codemirror_mode": {
    "name": "ipython",
    "version": 3
   },
   "file_extension": ".py",
   "mimetype": "text/x-python",
   "name": "python",
   "nbconvert_exporter": "python",
   "pygments_lexer": "ipython3",
   "version": "3.6.3"
  }
 },
 "nbformat": 4,
 "nbformat_minor": 2
}
